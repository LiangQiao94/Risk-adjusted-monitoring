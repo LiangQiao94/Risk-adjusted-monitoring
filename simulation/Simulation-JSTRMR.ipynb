{
 "cells": [
  {
   "cell_type": "markdown",
   "id": "b471d88a",
   "metadata": {},
   "source": [
    "## 生成仿真数据"
   ]
  },
  {
   "cell_type": "code",
   "execution_count": 14,
   "id": "18987d91",
   "metadata": {},
   "outputs": [
    {
     "name": "stdout",
     "output_type": "stream",
     "text": [
      "7.53212856421111\n",
      "-0.10027677433391241\n"
     ]
    }
   ],
   "source": [
    "import numpy as np\n",
    "import pandas as pd\n",
    "import time\n",
    "\n",
    "# =============================================================================\n",
    "# Generate User-Item Matrix\n",
    "# =============================================================================\n",
    "n_u = 1000  # user number\n",
    "n_v = 100   # item number\n",
    "n_r = 5 # average number of ratings per user\n",
    "n_factors = 5  # number of latent factors\n",
    "V = 100 # vocabulary size\n",
    "beta = 0.01\n",
    "kappa = 1.0\n",
    "n_w = 30 # avg length of review\n",
    "np.random.seed(0)\n",
    "\n",
    "bias_user = np.zeros(n_u)\n",
    "U_matrix = np.zeros((n_u,n_factors))\n",
    "# generate bias and latent fators for users\n",
    "for i in range(n_u):\n",
    "    bias_user[i] = np.random.normal()\n",
    "    mean = np.zeros(n_factors)\n",
    "    cov = np.eye(n_factors)\n",
    "    U_matrix[i] = np.abs(np.random.multivariate_normal(mean, cov))\n",
    "\n",
    "bias_item = np.zeros(n_v)\n",
    "V_matrix = np.zeros((n_v,n_factors))\n",
    "# generate bias and latent factors for items\n",
    "for j in range(n_v):\n",
    "    bias_item[j] = np.random.normal()\n",
    "    mean = np.zeros(n_factors)\n",
    "    cov = np.eye(n_factors)\n",
    "    V_matrix[j] = np.random.multivariate_normal(mean, cov)\n",
    "\n",
    "# generate word distributions for topics (latent factors)\n",
    "phi = np.zeros((n_factors*2,V))\n",
    "for k in range(n_factors*2):\n",
    "    phi[k] = np.random.dirichlet([beta]*V)\n",
    "\n",
    "\n",
    "data = []\n",
    "data_theta = []\n",
    "# generate ratings and reviews given users and items\n",
    "for i in range(n_u):\n",
    "    n_ur = np.random.poisson(n_r)\n",
    "    select_items = np.random.choice(np.arange(n_v), n_ur)    \n",
    "    for j in select_items:\n",
    "        residual = np.random.normal(scale=1.0)\n",
    "        score_ij = bias_user[i] + bias_item[j] + U_matrix[i].dot(V_matrix[j]) + residual\n",
    "        theta_pos = np.exp(kappa * U_matrix[i] * V_matrix[j])\n",
    "        theta_neg = np.exp(-1 * kappa * U_matrix[i] * V_matrix[j])\n",
    "        theta = np.concatenate((theta_pos,theta_neg))\n",
    "        theta /= np.sum(theta)\n",
    "        doc = []\n",
    "        for n in range(n_w):\n",
    "            k = np.random.choice(np.arange(n_factors*2),p=theta)\n",
    "            w = np.random.choice(np.arange(V),p=phi[k])\n",
    "            doc.append(w)\n",
    "        data.append([i,j,score_ij,doc])\n",
    "        data_theta.append(theta)\n",
    "df = pd.DataFrame(data,columns = ['user','item','rating','review'])\n",
    "vocab = dict(enumerate([str(w) for w in list(range(V))]))\n",
    "#df.to_csv('rating_matrix.csv')\n",
    "\n",
    "# validation set\n",
    "val_data = []\n",
    "errors = 0\n",
    "for i in range(n_u):\n",
    "    j = np.random.choice(np.arange(n_v))\n",
    "    residual = np.random.normal(scale=1.0)\n",
    "    errors += residual**2\n",
    "    score_ij = bias_user[i] + bias_item[j] + U_matrix[i].dot(V_matrix[j]) + residual\n",
    "    val_data.append([i, j, score_ij])\n",
    "val_df = pd.DataFrame(val_data, columns=['user', 'item', 'rating'])\n",
    "\n",
    "print(val_df['rating'].var())\n",
    "print(df['rating'].mean())\n"
   ]
  },
  {
   "cell_type": "code",
   "execution_count": 15,
   "id": "cfbb14c1",
   "metadata": {},
   "outputs": [
    {
     "name": "stdout",
     "output_type": "stream",
     "text": [
      "0.3344015712163282\n"
     ]
    }
   ],
   "source": [
    "ranges = []\n",
    "for theta_d in data_theta:\n",
    "    ranges.append(np.max(theta_d)-np.min(theta_d))\n",
    "print(np.mean(ranges))"
   ]
  },
  {
   "cell_type": "code",
   "execution_count": 3,
   "id": "129c806d",
   "metadata": {},
   "outputs": [
    {
     "data": {
      "text/plain": [
       "(5070, 1000)"
      ]
     },
     "execution_count": 3,
     "metadata": {},
     "output_type": "execute_result"
    }
   ],
   "source": [
    "df.shape[0], val_df.shape[0]"
   ]
  },
  {
   "cell_type": "markdown",
   "id": "ca064026",
   "metadata": {},
   "source": [
    "## 模型学习"
   ]
  },
  {
   "cell_type": "code",
   "execution_count": 51,
   "id": "899a0f0d",
   "metadata": {},
   "outputs": [],
   "source": [
    "# =============================================================================\n",
    "# Offline Estimation based on JSTRMR\n",
    "# =============================================================================\n",
    "\n",
    "from dataset import Dataset\n",
    "trainset = Dataset(corpus=df, vocab=vocab)"
   ]
  },
  {
   "cell_type": "code",
   "execution_count": 52,
   "id": "3bb93e6c",
   "metadata": {},
   "outputs": [],
   "source": [
    "from JSTRMR import JSTRMR\n",
    "model = JSTRMR(trainset, K=n_factors, weight=2.0)"
   ]
  },
  {
   "cell_type": "code",
   "execution_count": 23,
   "id": "a1e3dec4",
   "metadata": {},
   "outputs": [
    {
     "name": "stdout",
     "output_type": "stream",
     "text": [
      "Processing epoch 0, loss of reviews = 364360.64077673474, loss of ratings = 12320.80479846352\n",
      "Processing epoch 1, loss of reviews = 362140.0022684069, loss of ratings = 12319.183832716568\n",
      "Processing epoch 2, loss of reviews = 354046.60848040343, loss of ratings = 12316.063081496639\n",
      "Processing epoch 3, loss of reviews = 336794.7403252036, loss of ratings = 12312.599655999842\n",
      "Processing epoch 4, loss of reviews = 314198.25899891363, loss of ratings = 12301.316082994566\n",
      "Processing epoch 5, loss of reviews = 294107.30514563265, loss of ratings = 12296.868874203035\n",
      "Processing epoch 6, loss of reviews = 277894.49062267493, loss of ratings = 12293.138346016964\n",
      "Processing epoch 7, loss of reviews = 266003.7890963928, loss of ratings = 12285.716747256885\n",
      "Processing epoch 8, loss of reviews = 257683.1185326746, loss of ratings = 12279.2142386982\n",
      "Processing epoch 9, loss of reviews = 251943.99682367087, loss of ratings = 12274.177556597671\n",
      "Processing epoch 10, loss of reviews = 247774.17065611377, loss of ratings = 12269.594648668972\n",
      "Processing epoch 11, loss of reviews = 244117.17351684673, loss of ratings = 12258.519734002526\n",
      "Processing epoch 12, loss of reviews = 240700.2427604547, loss of ratings = 12253.899416181528\n",
      "Processing epoch 13, loss of reviews = 237390.95766805077, loss of ratings = 12265.130092094356\n",
      "Processing epoch 14, loss of reviews = 234183.04854699492, loss of ratings = 12274.636213933276\n",
      "Processing epoch 15, loss of reviews = 230880.6040771863, loss of ratings = 12286.02589577915\n",
      "Processing epoch 16, loss of reviews = 227929.27277046553, loss of ratings = 12292.75092459964\n",
      "Processing epoch 17, loss of reviews = 225587.12965607294, loss of ratings = 12294.882306392157\n",
      "Processing epoch 18, loss of reviews = 223606.88901430537, loss of ratings = 12295.037917302283\n",
      "Processing epoch 19, loss of reviews = 222462.95974901086, loss of ratings = 12294.775431285989\n",
      "Processing epoch 20, loss of reviews = 221671.16547633967, loss of ratings = 12292.511371913588\n",
      "Processing epoch 21, loss of reviews = 221007.51017939122, loss of ratings = 12292.02375635716\n",
      "Processing epoch 22, loss of reviews = 220352.1570657431, loss of ratings = 12288.698182068327\n",
      "Processing epoch 23, loss of reviews = 219933.85285256035, loss of ratings = 12289.385961368542\n",
      "Processing epoch 24, loss of reviews = 219588.17244027185, loss of ratings = 12288.393533242195\n",
      "Processing epoch 25, loss of reviews = 219307.71210174527, loss of ratings = 12287.976627628906\n"
     ]
    },
    {
     "ename": "KeyboardInterrupt",
     "evalue": "",
     "output_type": "error",
     "traceback": [
      "\u001b[1;31m---------------------------------------------------------------------------\u001b[0m",
      "\u001b[1;31mKeyboardInterrupt\u001b[0m                         Traceback (most recent call last)",
      "\u001b[1;32m<ipython-input-23-4a6754e352b0>\u001b[0m in \u001b[0;36m<module>\u001b[1;34m\u001b[0m\n\u001b[1;32m----> 1\u001b[1;33m \u001b[0mmodel\u001b[0m\u001b[1;33m.\u001b[0m\u001b[0mInference\u001b[0m\u001b[1;33m(\u001b[0m\u001b[1;33m)\u001b[0m\u001b[1;33m\u001b[0m\u001b[1;33m\u001b[0m\u001b[0m\n\u001b[0m",
      "\u001b[1;32mE:\\研究\\正在进行研究\\risk-adjusted monitoring of online reviews\\模型实验\\simulation\\JSTRMR.py\u001b[0m in \u001b[0;36mInference\u001b[1;34m(self, epochs, threshold)\u001b[0m\n\u001b[0;32m    160\u001b[0m                     \u001b[0mp_flat\u001b[0m \u001b[1;33m=\u001b[0m \u001b[0mp\u001b[0m\u001b[1;33m.\u001b[0m\u001b[0mflatten\u001b[0m\u001b[1;33m(\u001b[0m\u001b[1;33m)\u001b[0m\u001b[1;33m\u001b[0m\u001b[1;33m\u001b[0m\u001b[0m\n\u001b[0;32m    161\u001b[0m                     \u001b[0mp_flat\u001b[0m \u001b[1;33m/=\u001b[0m \u001b[0mnp\u001b[0m\u001b[1;33m.\u001b[0m\u001b[0msum\u001b[0m\u001b[1;33m(\u001b[0m\u001b[0mp_flat\u001b[0m\u001b[1;33m)\u001b[0m\u001b[1;33m\u001b[0m\u001b[1;33m\u001b[0m\u001b[0m\n\u001b[1;32m--> 162\u001b[1;33m                     \u001b[0mind\u001b[0m \u001b[1;33m=\u001b[0m \u001b[0mnp\u001b[0m\u001b[1;33m.\u001b[0m\u001b[0mrandom\u001b[0m\u001b[1;33m.\u001b[0m\u001b[0mchoice\u001b[0m\u001b[1;33m(\u001b[0m\u001b[0mself\u001b[0m\u001b[1;33m.\u001b[0m\u001b[0mK\u001b[0m\u001b[1;33m*\u001b[0m\u001b[0mself\u001b[0m\u001b[1;33m.\u001b[0m\u001b[0mS\u001b[0m\u001b[1;33m,\u001b[0m \u001b[0mp\u001b[0m\u001b[1;33m=\u001b[0m\u001b[0mp_flat\u001b[0m\u001b[1;33m)\u001b[0m\u001b[1;33m\u001b[0m\u001b[1;33m\u001b[0m\u001b[0m\n\u001b[0m\u001b[0;32m    163\u001b[0m                     \u001b[0mtopic\u001b[0m \u001b[1;33m=\u001b[0m \u001b[0mind\u001b[0m \u001b[1;33m//\u001b[0m \u001b[0mself\u001b[0m\u001b[1;33m.\u001b[0m\u001b[0mS\u001b[0m\u001b[1;33m\u001b[0m\u001b[1;33m\u001b[0m\u001b[0m\n\u001b[0;32m    164\u001b[0m                     \u001b[0msentiment\u001b[0m \u001b[1;33m=\u001b[0m \u001b[0mind\u001b[0m \u001b[1;33m-\u001b[0m \u001b[0mtopic\u001b[0m \u001b[1;33m*\u001b[0m \u001b[0mself\u001b[0m\u001b[1;33m.\u001b[0m\u001b[0mS\u001b[0m\u001b[1;33m\u001b[0m\u001b[1;33m\u001b[0m\u001b[0m\n",
      "\u001b[1;31mKeyboardInterrupt\u001b[0m: "
     ]
    }
   ],
   "source": [
    "model.Inference()"
   ]
  },
  {
   "cell_type": "code",
   "execution_count": 8,
   "id": "aff668eb",
   "metadata": {},
   "outputs": [
    {
     "data": {
      "text/plain": [
       "(2.1197157517488874,\n",
       " -2.2192827475725445,\n",
       " 1.6181853511896236,\n",
       " 1.7583023199629984)"
      ]
     },
     "execution_count": 8,
     "metadata": {},
     "output_type": "execute_result"
    }
   ],
   "source": [
    "model.mu[0],model.mu[1],model.sigma[0],model.sigma[1]"
   ]
  },
  {
   "cell_type": "code",
   "execution_count": 3,
   "id": "b5de7fb0",
   "metadata": {},
   "outputs": [],
   "source": [
    "import gzip\n",
    "import _pickle as cPickle\n",
    "\n",
    "def save_zipped_pickle(obj, filename, protocol=-1):\n",
    "    with gzip.open(filename, 'wb') as f:\n",
    "        cPickle.dump(obj, f, protocol)\n",
    "        \n",
    "def load_zipped_pickle(filename):\n",
    "    with gzip.open(filename, 'rb') as f:\n",
    "        loaded_object = cPickle.load(f)\n",
    "        return loaded_object"
   ]
  },
  {
   "cell_type": "code",
   "execution_count": 28,
   "id": "bf4d5505",
   "metadata": {},
   "outputs": [],
   "source": [
    "# save model for further use    \n",
    "save_zipped_pickle(model, './models/kappa3/JSTRMR_weight2.0.p')"
   ]
  },
  {
   "cell_type": "code",
   "execution_count": 4,
   "id": "556f828f",
   "metadata": {},
   "outputs": [
    {
     "name": "stderr",
     "output_type": "stream",
     "text": [
      "c:\\users\\liang\\appdata\\local\\programs\\python\\python36\\lib\\site-packages\\requests\\__init__.py:104: RequestsDependencyWarning: urllib3 (1.26.18) or chardet (5.0.0)/charset_normalizer (2.0.12) doesn't match a supported version!\n",
      "  RequestsDependencyWarning)\n",
      "c:\\users\\liang\\appdata\\local\\programs\\python\\python36\\lib\\site-packages\\paramiko\\transport.py:32: CryptographyDeprecationWarning: Python 3.6 is no longer supported by the Python core team. Therefore, support for it is deprecated in cryptography. The next release of cryptography will remove support for Python 3.6.\n",
      "  from cryptography.hazmat.backends import default_backend\n"
     ]
    }
   ],
   "source": [
    "import gzip\n",
    "import _pickle as cPickle\n",
    "\n",
    "# load existing model\n",
    "with gzip.open('./models/kappa3/JSTRMR/JSTRMR_weight5.0.p', 'rb') as f:\n",
    "    model = cPickle.load(f)"
   ]
  },
  {
   "cell_type": "code",
   "execution_count": 10,
   "id": "4d672daf",
   "metadata": {
    "scrolled": true
   },
   "outputs": [
    {
     "name": "stdout",
     "output_type": "stream",
     "text": [
      "Processing epoch 0, loss of reviews = 364075.17536369123, loss of ratings = 11534.514909865422\n",
      "Processing epoch 1, loss of reviews = 363712.75358186086, loss of ratings = 11278.994544421006\n",
      "******** weight =  7.0 mu and sigma:  1.8105555695549438 1.9242346630993588 -1.9605304497196772 2.0759176403204904 ********\n",
      "Processing epoch 0, loss of reviews = 363893.9958655309, loss of ratings = 11102.792284135423\n",
      "Processing epoch 1, loss of reviews = 363566.2374405932, loss of ratings = 10847.066045714346\n",
      "******** weight =  15.0 mu and sigma:  1.8538088868816978 1.890621955077369 -2.008652829439216 2.022546776018185 ********\n",
      "Processing epoch 0, loss of reviews = 363822.0169222428, loss of ratings = 10968.16634952913\n",
      "Processing epoch 1, loss of reviews = 363515.15203364147, loss of ratings = 10721.853548450576\n",
      "******** weight =  20.0 mu and sigma:  1.882430414550679 1.87391955027458 -2.013819758955088 2.0052206868707034 ********\n"
     ]
    }
   ],
   "source": [
    "for weight in [7.0, 15.0, 20.0]:\n",
    "    model = JSTRMR(trainset, K=n_factors, weight=weight)\n",
    "    model.Inference(threshold=0.001)\n",
    "    print(\"******** weight = \",weight,\"mu and sigma: \",model.mu[0],model.sigma[0],model.mu[1],model.sigma[1],\"********\")\n",
    "    save_zipped_pickle(model, './models/kappa0.5/JSTRMR_weight' + str(weight) + '.p')"
   ]
  },
  {
   "cell_type": "code",
   "execution_count": 9,
   "id": "8a633c6d",
   "metadata": {},
   "outputs": [
    {
     "data": {
      "text/plain": [
       "0.5"
      ]
     },
     "execution_count": 9,
     "metadata": {},
     "output_type": "execute_result"
    }
   ],
   "source": [
    "kappa"
   ]
  },
  {
   "cell_type": "code",
   "execution_count": 55,
   "id": "608d5cbb",
   "metadata": {},
   "outputs": [
    {
     "data": {
      "image/png": "[encoded data removed]",
      "text/plain": [
       "<Figure size 1152x576 with 10 Axes>"
      ]
     },
     "metadata": {
      "needs_background": "light"
     },
     "output_type": "display_data"
    }
   ],
   "source": [
    "import seaborn as sns\n",
    "import matplotlib.pyplot as plt\n",
    "%matplotlib inline\n",
    "\n",
    "plt.subplots(figsize=(16,8))\n",
    "for factor in range(n_factors):\n",
    "    plt.subplot(2,n_factors,factor+1)\n",
    "    sns.heatmap(data=model.phi[factor,0].reshape((10,10)),square=True,cbar=False)\n",
    "    plt.subplot(2,n_factors,factor+1+n_factors)\n",
    "    sns.heatmap(data=phi[factor].reshape((10,10)),square=True,cbar=False)\n",
    "\n",
    "# 显示图形\n",
    "plt.show()"
   ]
  },
  {
   "cell_type": "code",
   "execution_count": 56,
   "id": "a9d06e7d",
   "metadata": {},
   "outputs": [
    {
     "data": {
      "image/png": "[encoded data removed]",
      "text/plain": [
       "<Figure size 1152x576 with 10 Axes>"
      ]
     },
     "metadata": {
      "needs_background": "light"
     },
     "output_type": "display_data"
    }
   ],
   "source": [
    "import seaborn as sns\n",
    "import matplotlib.pyplot as plt\n",
    "%matplotlib inline\n",
    "\n",
    "plt.subplots(figsize=(16,8))\n",
    "for factor in range(n_factors):\n",
    "    plt.subplot(2,n_factors,factor+1)\n",
    "    sns.heatmap(data=model.phi[factor,1].reshape((10,10)),square=True,cbar=False)\n",
    "    plt.subplot(2,n_factors,factor+1+n_factors)\n",
    "    sns.heatmap(data=phi[factor+n_factors].reshape((10,10)),square=True,cbar=False)\n",
    "\n",
    "# 显示图形\n",
    "plt.show()"
   ]
  },
  {
   "cell_type": "markdown",
   "id": "5151ddc2",
   "metadata": {},
   "source": [
    "## UCL search"
   ]
  },
  {
   "cell_type": "code",
   "execution_count": 16,
   "id": "2632164e",
   "metadata": {},
   "outputs": [],
   "source": [
    "import gzip\n",
    "import _pickle as cPickle\n",
    "\n",
    "# load existing model\n",
    "with gzip.open('./models/kappa1/JSTRMR/JSTRMR_weight3.0.p', 'rb') as f:\n",
    "    model = cPickle.load(f)"
   ]
  },
  {
   "cell_type": "code",
   "execution_count": 17,
   "id": "025d84bf",
   "metadata": {},
   "outputs": [
    {
     "data": {
      "text/plain": [
       "1.0"
      ]
     },
     "execution_count": 17,
     "metadata": {},
     "output_type": "execute_result"
    }
   ],
   "source": [
    "kappa"
   ]
  },
  {
   "cell_type": "code",
   "execution_count": 89,
   "id": "1a97612a",
   "metadata": {},
   "outputs": [
    {
     "name": "stdout",
     "output_type": "stream",
     "text": [
      "sentiment UCL search for kappa=3 and smoothing=0.05\n",
      "ARL=0, next search range: (0.01015625,0.010234375), try UCL = 0.010195312500000001\n",
      "1 1292.0 0.0\n",
      "2 661.5 445.8308255381182\n",
      "3 565.3333333333334 307.4173180017798\n",
      "4 563.25 230.57004765363604\n",
      "5 511.6 190.15311725028332\n",
      "6 454.8333333333333 166.71906120888028\n",
      "7 460.85714285714283 143.01083569214057\n",
      "8 423.75 129.859389100288\n",
      "9 391.3333333333333 119.40810816814867\n",
      "10 372.2 108.98943068022696\n",
      "11 352.1818181818182 100.90293332415307\n",
      "12 332.0 94.49110775329308\n",
      "13 310.46153846153845 89.64371393655355\n",
      "14 294.57142857142856 84.63720380672777\n",
      "15 277.8666666666667 80.62637377526133\n",
      "16 268.4375 76.13659439362503\n",
      "17 269.4117647058824 71.66420440185166\n",
      "18 320.22222222222223 83.78092963256032\n",
      "19 406.7894736842105 115.7553198180991\n",
      "20 423.55 111.17433325637712\n",
      "21 424.3809523809524 105.88342274288357\n",
      "22 407.27272727272725 102.44335628620613\n",
      "23 416.17391304347825 98.37524417283011\n",
      "24 408.8333333333333 94.54974929946982\n",
      "25 407.56 90.77633312708771\n",
      "26 392.84615384615387 88.4693757783702\n",
      "27 381.85185185185185 85.87315914454415\n",
      "28 370.9642857142857 83.49360665587065\n",
      "29 361.58620689655174 81.13948468171768\n",
      "30 362.1333333333333 78.43667981716679\n",
      "31 367.7741935483871 76.10902839534133\n",
      "32 410.8125 85.03302939956441\n",
      "33 410.6363636363636 82.45645335604992\n",
      "34 401.1764705882353 80.57208372481247\n",
      "35 403.6857142857143 78.30908693255154\n",
      "36 407.72222222222223 76.23779614047518\n",
      "37 397.6216216216216 74.84342898649368\n",
      "38 389.05263157894734 73.36276640755932\n",
      "39 414.4871794871795 75.76250889351151\n",
      "40 407.275 74.2109323777501\n",
      "41 403.7560975609756 72.4842905336565\n",
      "42 403.0238095238095 70.76217304389985\n",
      "43 401.1162790697674 69.14224690824051\n",
      "44 393.84090909090907 67.95252310141976\n",
      "45 390.9555555555556 66.50369677318183\n",
      "46 385.32608695652175 65.29579384685182\n",
      "47 379.72340425531917 64.14643940046126\n",
      "48 374.4791666666667 63.02405976302471\n",
      "49 375.40816326530614 61.744700948878425\n",
      "50 368.44 60.90173173235717\n",
      "51 363.27450980392155 59.92623992693968\n",
      "52 356.96153846153845 59.10539904614626\n",
      "53 356.7169811320755 57.990708781580054\n",
      "54 351.7037037037037 57.13309389598395\n",
      "55 349.5090909090909 56.13644459458143\n",
      "56 344.375 55.36828552890829\n",
      "57 341.0175438596491 54.498612773454\n",
      "58 348.13793103448273 54.022127673798614\n",
      "59 344.6949152542373 53.21610289865616\n",
      "60 340.98333333333335 52.45844117895541\n",
      "61 338.4754098360656 51.65838112052308\n",
      "62 356.61290322580646 53.91532052317704\n",
      "63 353.031746031746 53.178322391865514\n",
      "64 347.90625 52.59383689252143\n",
      "65 343.3692307692308 51.98002606477838\n",
      "66 338.8636363636364 51.38734987756895\n",
      "67 342.3731343283582 50.74007352799754\n",
      "68 379.02941176470586 61.832938398685805\n",
      "69 378.7536231884058 60.937423892585166\n",
      "70 373.8 60.26789377776664\n",
      "71 369.6619718309859 59.5609404835772\n",
      "72 369.02777777777777 58.73708149346276\n",
      "73 365.56164383561645 58.03464384331488\n",
      "74 361.47297297297297 57.39423920187531\n",
      "75 358.37333333333333 56.7126206556321\n",
      "76 354.10526315789474 56.12677508914068\n",
      "77 351.24675324675326 55.470599445852\n",
      "78 347.1025641025641 54.91402517566845\n",
      "79 344.1645569620253 54.29744859873766\n",
      "80 342.175 53.65516859713983\n",
      "81 340.4567901234568 53.02026325488539\n",
      "82 339.280487804878 52.38672171697431\n",
      "83 336.1927710843373 51.84647282995013\n"
     ]
    },
    {
     "ename": "KeyboardInterrupt",
     "evalue": "",
     "output_type": "error",
     "traceback": [
      "\u001b[1;31m---------------------------------------------------------------------------\u001b[0m",
      "\u001b[1;31mKeyboardInterrupt\u001b[0m                         Traceback (most recent call last)",
      "\u001b[1;32m<ipython-input-89-16195c2b4aa2>\u001b[0m in \u001b[0;36m<module>\u001b[1;34m\u001b[0m\n\u001b[0;32m     49\u001b[0m                 \u001b[0mresidual\u001b[0m \u001b[1;33m=\u001b[0m \u001b[0mnp\u001b[0m\u001b[1;33m.\u001b[0m\u001b[0mrandom\u001b[0m\u001b[1;33m.\u001b[0m\u001b[0mnormal\u001b[0m\u001b[1;33m(\u001b[0m\u001b[0mscale\u001b[0m\u001b[1;33m=\u001b[0m\u001b[1;36m1.0\u001b[0m\u001b[1;33m)\u001b[0m\u001b[1;33m\u001b[0m\u001b[1;33m\u001b[0m\u001b[0m\n\u001b[0;32m     50\u001b[0m                 \u001b[0muser_id\u001b[0m \u001b[1;33m=\u001b[0m \u001b[0mnp\u001b[0m\u001b[1;33m.\u001b[0m\u001b[0mrandom\u001b[0m\u001b[1;33m.\u001b[0m\u001b[0mchoice\u001b[0m\u001b[1;33m(\u001b[0m\u001b[0mnp\u001b[0m\u001b[1;33m.\u001b[0m\u001b[0marange\u001b[0m\u001b[1;33m(\u001b[0m\u001b[0mn_u\u001b[0m\u001b[1;33m)\u001b[0m\u001b[1;33m)\u001b[0m\u001b[1;33m\u001b[0m\u001b[1;33m\u001b[0m\u001b[0m\n\u001b[1;32m---> 51\u001b[1;33m                 \u001b[0mscore\u001b[0m \u001b[1;33m=\u001b[0m \u001b[0mbias_user\u001b[0m\u001b[1;33m[\u001b[0m\u001b[0muser_id\u001b[0m\u001b[1;33m]\u001b[0m \u001b[1;33m+\u001b[0m \u001b[0mbias_item\u001b[0m\u001b[1;33m[\u001b[0m\u001b[0mitem_id\u001b[0m\u001b[1;33m]\u001b[0m \u001b[1;33m+\u001b[0m \u001b[0mU_matrix\u001b[0m\u001b[1;33m[\u001b[0m\u001b[0muser_id\u001b[0m\u001b[1;33m]\u001b[0m\u001b[1;33m.\u001b[0m\u001b[0mdot\u001b[0m\u001b[1;33m(\u001b[0m\u001b[0mV_matrix\u001b[0m\u001b[1;33m[\u001b[0m\u001b[0mitem_id\u001b[0m\u001b[1;33m]\u001b[0m\u001b[1;33m)\u001b[0m \u001b[1;33m+\u001b[0m \u001b[0mresidual\u001b[0m\u001b[1;33m\u001b[0m\u001b[1;33m\u001b[0m\u001b[0m\n\u001b[0m\u001b[0;32m     52\u001b[0m                 \u001b[0mtheta_pos\u001b[0m \u001b[1;33m=\u001b[0m \u001b[0mnp\u001b[0m\u001b[1;33m.\u001b[0m\u001b[0mexp\u001b[0m\u001b[1;33m(\u001b[0m\u001b[0mkappa\u001b[0m \u001b[1;33m*\u001b[0m \u001b[0mU_matrix\u001b[0m\u001b[1;33m[\u001b[0m\u001b[0muser_id\u001b[0m\u001b[1;33m]\u001b[0m \u001b[1;33m*\u001b[0m \u001b[1;33m(\u001b[0m\u001b[0mV_matrix\u001b[0m\u001b[1;33m[\u001b[0m\u001b[0mitem_id\u001b[0m\u001b[1;33m]\u001b[0m\u001b[1;33m)\u001b[0m\u001b[1;33m)\u001b[0m\u001b[1;33m\u001b[0m\u001b[1;33m\u001b[0m\u001b[0m\n\u001b[0;32m     53\u001b[0m                 \u001b[0mtheta_neg\u001b[0m \u001b[1;33m=\u001b[0m \u001b[0mnp\u001b[0m\u001b[1;33m.\u001b[0m\u001b[0mexp\u001b[0m\u001b[1;33m(\u001b[0m\u001b[1;33m-\u001b[0m\u001b[1;36m1\u001b[0m \u001b[1;33m*\u001b[0m \u001b[0mkappa\u001b[0m \u001b[1;33m*\u001b[0m \u001b[0mU_matrix\u001b[0m\u001b[1;33m[\u001b[0m\u001b[0muser_id\u001b[0m\u001b[1;33m]\u001b[0m \u001b[1;33m*\u001b[0m \u001b[1;33m(\u001b[0m\u001b[0mV_matrix\u001b[0m\u001b[1;33m[\u001b[0m\u001b[0mitem_id\u001b[0m\u001b[1;33m]\u001b[0m\u001b[1;33m)\u001b[0m\u001b[1;33m)\u001b[0m\u001b[1;33m\u001b[0m\u001b[1;33m\u001b[0m\u001b[0m\n",
      "\u001b[1;31mKeyboardInterrupt\u001b[0m: "
     ]
    }
   ],
   "source": [
    "# =============================================================================\n",
    "# Generate In-Control Data and Search UCL\n",
    "# =============================================================================\n",
    "smoothing = 0.05 # smoothing parameter for EWMA\n",
    "model.rho = (1-smoothing)/smoothing\n",
    "item_id = 0 # select a specific item\n",
    "m = 100 # reference sample size\n",
    "n = 5 # test sample size\n",
    "RL_trys = 1000 # number of trys for run lengths\n",
    "UCL_l = 0.01015625 # lower search bound of UCL\n",
    "UCL_u = 0.010234375 # upper search bound of UCL \n",
    "UCL_0 = (UCL_l + UCL_u)/2\n",
    "ARL = 0\n",
    "\n",
    "print(\"sentiment UCL search for kappa=3 and smoothing=0.05\")\n",
    "print('ARL={}, next search range: ({},{}), try UCL = {}'.format(ARL, UCL_l, UCL_u, UCL_0))\n",
    "\n",
    "while abs(ARL-370) > 7:   \n",
    "    RL = [] # to record each RL\n",
    "    for k in range(RL_trys):\n",
    "        # generate m reference samples\n",
    "        ref_samples = []\n",
    "        for i in range(m):\n",
    "            residual = np.random.normal(scale=1.0)\n",
    "            user_id = np.random.choice(np.arange(n_u))\n",
    "            score = bias_user[user_id] + bias_item[item_id] + U_matrix[user_id].dot(V_matrix[item_id]) + residual           \n",
    "            theta_pos = np.exp(kappa * U_matrix[user_id] * V_matrix[item_id])\n",
    "            theta_neg = np.exp(-1 * kappa * U_matrix[user_id] * V_matrix[item_id])\n",
    "            theta = np.concatenate((theta_pos,theta_neg))\n",
    "            theta /= np.sum(theta)\n",
    "            doc = []\n",
    "            for idx in range(n_w):\n",
    "                k = np.random.choice(np.arange(n_factors*2),p=theta)\n",
    "                w = np.random.choice(np.arange(V),p=phi[k])\n",
    "                doc.append(w)\n",
    "            ref_samples.append([user_id,item_id,score,doc])\n",
    "        df_ref = pd.DataFrame(ref_samples, columns = ['user','item','rating','review'])\n",
    "        # get avg pi and theta in reference samples\n",
    "        pi, theta = model.online_Inference(new_corpus=df_ref,epochs=20)\n",
    "        ref_pi = np.mean(pi,axis=0)\n",
    "        ref_theta = np.mean(theta,axis=0)\n",
    "        \n",
    "        # RL computing        \n",
    "        cur_RL = 5000\n",
    "        for j in range(1,5001):\n",
    "            # generate n test samples\n",
    "            test_samples = []\n",
    "            for i in range(n):\n",
    "                residual = np.random.normal(scale=1.0)\n",
    "                user_id = np.random.choice(np.arange(n_u))\n",
    "                score = bias_user[user_id] + bias_item[item_id] + U_matrix[user_id].dot(V_matrix[item_id]) + residual\n",
    "                theta_pos = np.exp(kappa * U_matrix[user_id] * (V_matrix[item_id]))\n",
    "                theta_neg = np.exp(-1 * kappa * U_matrix[user_id] * (V_matrix[item_id]))\n",
    "                theta = np.concatenate((theta_pos,theta_neg))            \n",
    "                theta /= np.sum(theta)\n",
    "                doc = []\n",
    "                for idx in range(n_w):\n",
    "                    k = np.random.choice(np.arange(n_factors*2),p=theta)\n",
    "                    w = np.random.choice(np.arange(V),p=phi[k])\n",
    "                    doc.append(w)\n",
    "                test_samples.append([user_id,item_id,score,doc])\n",
    "            df_test = pd.DataFrame(test_samples, columns = ['user','item','rating','review'])\n",
    "            if j == 1:\n",
    "                pi_j, theta_j = model.online_sequential_Inference(ref_pi, ref_theta, df_test, epochs=5)\n",
    "            else:\n",
    "                pi_j, theta_j = model.online_sequential_Inference(pi_j, theta_j, df_test, epochs=5)\n",
    "            \n",
    "            # compute sentiment statistic\n",
    "            Q_j_senti = np.sum(pi_j * np.log(pi_j/ref_pi))  \n",
    "            if Q_j_senti > UCL_0:\n",
    "                cur_RL = j\n",
    "                break\n",
    "            '''\n",
    "            # compute topic statistic\n",
    "            Q_j_topic = 0\n",
    "            for s in range(model.S):\n",
    "                Q_j_topic += pi_j[s] * np.sum(theta_j[s] * np.log(theta_j[s]/ref_theta[s]))\n",
    "            if Q_j_topic > UCL_0:\n",
    "                cur_RL = j\n",
    "                break\n",
    "            '''\n",
    "\n",
    "        RL.append(cur_RL)\n",
    "        print(len(RL),np.mean(RL),np.std(RL)/np.sqrt(len(RL)))\n",
    "\n",
    "            \n",
    "    ARL = np.mean(RL)   \n",
    "    if ARL < 370:\n",
    "        UCL_l = UCL_0\n",
    "        UCL_0 = (UCL_l+UCL_u)/2\n",
    "    else:\n",
    "        UCL_u = UCL_0\n",
    "        UCL_0 = (UCL_l+UCL_u)/2\n",
    "    print('ARL={}, ARL_std={}, next search range: ({},{}), try UCL = {}'.format(ARL, np.std(RL)/np.sqrt(len(RL)), UCL_l, UCL_u, UCL_0))\n",
    "    \n",
    "\n",
    "print(np.mean(RL),np.std(RL)/np.sqrt(len(RL)))"
   ]
  },
  {
   "cell_type": "code",
   "execution_count": 17,
   "id": "b0205740",
   "metadata": {},
   "outputs": [
    {
     "data": {
      "text/plain": [
       "(371.1910225763612, 10.040915347002562)"
      ]
     },
     "execution_count": 17,
     "metadata": {},
     "output_type": "execute_result"
    }
   ],
   "source": [
    "np.mean(RL), np.std(RL)/400"
   ]
  },
  {
   "cell_type": "code",
   "execution_count": 16,
   "id": "e4279d20",
   "metadata": {},
   "outputs": [
    {
     "data": {
      "text/plain": [
       "137.20422734012243"
      ]
     },
     "execution_count": 16,
     "metadata": {},
     "output_type": "execute_result"
    }
   ],
   "source": [
    "np.sqrt(len(RL))"
   ]
  },
  {
   "cell_type": "markdown",
   "id": "0afa52a4",
   "metadata": {},
   "source": [
    "## Phase-II monitoring"
   ]
  },
  {
   "cell_type": "code",
   "execution_count": 81,
   "id": "f6b2972b",
   "metadata": {},
   "outputs": [],
   "source": [
    "import gzip\n",
    "import _pickle as cPickle\n",
    "\n",
    "# load existing model\n",
    "#with gzip.open('./models/model_onlyrating.p', 'rb') as f:\n",
    "with gzip.open('./models/kappa10/model_united_reg0.2_lamb0.02.p', 'rb') as f:\n",
    "    model = cPickle.load(f)"
   ]
  },
  {
   "cell_type": "code",
   "execution_count": 68,
   "id": "0588515f",
   "metadata": {},
   "outputs": [
    {
     "data": {
      "text/plain": [
       "array([-0.91946118,  0.11467003, -0.1374237 ,  1.36552692, -0.26163835])"
      ]
     },
     "execution_count": 68,
     "metadata": {},
     "output_type": "execute_result"
    }
   ],
   "source": [
    "V_matrix[0]"
   ]
  },
  {
   "cell_type": "code",
   "execution_count": 18,
   "id": "0e660c25",
   "metadata": {},
   "outputs": [
    {
     "data": {
      "text/plain": [
       "1.0"
      ]
     },
     "execution_count": 18,
     "metadata": {},
     "output_type": "execute_result"
    }
   ],
   "source": [
    "kappa"
   ]
  },
  {
   "cell_type": "code",
   "execution_count": 21,
   "id": "a9a5f75c",
   "metadata": {},
   "outputs": [
    {
     "name": "stdout",
     "output_type": "stream",
     "text": [
      "ARL1 for kappa=1 and smoothing=0.05, bias shift -1\n",
      "1 945.0 0.0 sentiment\n",
      "2 1295.0 247.48737341529161 sentiment\n",
      "3 2530.0 1021.7822120632601 None\n",
      "4 3044.5 886.4561819402018 sentiment\n",
      "5 2609.8 808.7559533011179 sentiment\n",
      "6 2208.0 767.3086442596327 sentiment\n",
      "7 2384.1428571428573 677.60919531419 sentiment\n",
      "8 2711.125 667.1526117927405 None\n",
      "9 2474.0 633.7655640088508 sentiment\n",
      "10 2251.6 608.1605084186247 sentiment\n",
      "11 2501.4545454545455 602.0139940115388 None\n",
      "12 2709.6666666666665 586.7484830891406 None\n",
      "13 2522.6923076923076 570.6276662989135 sentiment\n",
      "14 2699.6428571428573 556.62881604207 None\n"
     ]
    },
    {
     "ename": "KeyboardInterrupt",
     "evalue": "",
     "output_type": "error",
     "traceback": [
      "\u001b[1;31m---------------------------------------------------------------------------\u001b[0m",
      "\u001b[1;31mKeyboardInterrupt\u001b[0m                         Traceback (most recent call last)",
      "\u001b[1;32m<ipython-input-21-afbb14841ed7>\u001b[0m in \u001b[0;36m<module>\u001b[1;34m\u001b[0m\n\u001b[0;32m     67\u001b[0m             \u001b[0mpi_j\u001b[0m\u001b[1;33m,\u001b[0m \u001b[0mtheta_j\u001b[0m \u001b[1;33m=\u001b[0m \u001b[0mmodel\u001b[0m\u001b[1;33m.\u001b[0m\u001b[0monline_sequential_Inference\u001b[0m\u001b[1;33m(\u001b[0m\u001b[0mref_pi\u001b[0m\u001b[1;33m,\u001b[0m \u001b[0mref_theta\u001b[0m\u001b[1;33m,\u001b[0m \u001b[0mdf_test\u001b[0m\u001b[1;33m,\u001b[0m \u001b[0mepochs\u001b[0m\u001b[1;33m=\u001b[0m\u001b[1;36m5\u001b[0m\u001b[1;33m)\u001b[0m\u001b[1;33m\u001b[0m\u001b[1;33m\u001b[0m\u001b[0m\n\u001b[0;32m     68\u001b[0m         \u001b[1;32melse\u001b[0m\u001b[1;33m:\u001b[0m\u001b[1;33m\u001b[0m\u001b[1;33m\u001b[0m\u001b[0m\n\u001b[1;32m---> 69\u001b[1;33m             \u001b[0mpi_j\u001b[0m\u001b[1;33m,\u001b[0m \u001b[0mtheta_j\u001b[0m \u001b[1;33m=\u001b[0m \u001b[0mmodel\u001b[0m\u001b[1;33m.\u001b[0m\u001b[0monline_sequential_Inference\u001b[0m\u001b[1;33m(\u001b[0m\u001b[0mpi_j\u001b[0m\u001b[1;33m,\u001b[0m \u001b[0mtheta_j\u001b[0m\u001b[1;33m,\u001b[0m \u001b[0mdf_test\u001b[0m\u001b[1;33m,\u001b[0m \u001b[0mepochs\u001b[0m\u001b[1;33m=\u001b[0m\u001b[1;36m5\u001b[0m\u001b[1;33m)\u001b[0m\u001b[1;33m\u001b[0m\u001b[1;33m\u001b[0m\u001b[0m\n\u001b[0m\u001b[0;32m     70\u001b[0m \u001b[1;33m\u001b[0m\u001b[0m\n\u001b[0;32m     71\u001b[0m \u001b[1;33m\u001b[0m\u001b[0m\n",
      "\u001b[1;32mE:\\研究\\正在进行研究\\risk-adjusted monitoring of online reviews\\模型实验\\simulation\\JSTRMR.py\u001b[0m in \u001b[0;36monline_sequential_Inference\u001b[1;34m(self, trans_pi, trans_theta, new_corpus, epochs, verbose)\u001b[0m\n\u001b[0;32m    391\u001b[0m                         \u001b[0mp_sentiment\u001b[0m\u001b[1;33m[\u001b[0m\u001b[0ms\u001b[0m\u001b[1;33m]\u001b[0m \u001b[1;33m=\u001b[0m \u001b[0mnorm\u001b[0m\u001b[1;33m.\u001b[0m\u001b[0mpdf\u001b[0m\u001b[1;33m(\u001b[0m\u001b[0mr\u001b[0m\u001b[1;33m,\u001b[0m \u001b[0mloc\u001b[0m \u001b[1;33m=\u001b[0m \u001b[0mself\u001b[0m\u001b[1;33m.\u001b[0m\u001b[0mmu\u001b[0m\u001b[1;33m[\u001b[0m\u001b[0ms\u001b[0m\u001b[1;33m]\u001b[0m\u001b[1;33m,\u001b[0m \u001b[0mscale\u001b[0m \u001b[1;33m=\u001b[0m \u001b[0mself\u001b[0m\u001b[1;33m.\u001b[0m\u001b[0msigma\u001b[0m\u001b[1;33m[\u001b[0m\u001b[0ms\u001b[0m\u001b[1;33m]\u001b[0m\u001b[1;33m)\u001b[0m\u001b[0;31m \u001b[0m\u001b[0;31m\\\u001b[0m\u001b[1;33m\u001b[0m\u001b[1;33m\u001b[0m\u001b[0m\n\u001b[0;32m    392\u001b[0m                       \u001b[1;33m*\u001b[0m \u001b[1;33m(\u001b[0m\u001b[1;33m(\u001b[0m\u001b[0mndsum\u001b[0m\u001b[1;33m[\u001b[0m\u001b[0ms\u001b[0m\u001b[1;33m]\u001b[0m \u001b[1;33m+\u001b[0m \u001b[0mself\u001b[0m\u001b[1;33m.\u001b[0m\u001b[0mweight\u001b[0m\u001b[1;33m*\u001b[0m\u001b[0mmdsum\u001b[0m\u001b[1;33m[\u001b[0m\u001b[0ms\u001b[0m\u001b[1;33m]\u001b[0m\u001b[1;33m)\u001b[0m \u001b[1;33m+\u001b[0m \u001b[1;33m(\u001b[0m\u001b[0mtotalnd\u001b[0m\u001b[1;33m+\u001b[0m\u001b[0mself\u001b[0m\u001b[1;33m.\u001b[0m\u001b[0mweight\u001b[0m\u001b[1;33m*\u001b[0m\u001b[0mtotalmd\u001b[0m\u001b[1;33m)\u001b[0m \u001b[1;33m*\u001b[0m \u001b[0mself\u001b[0m\u001b[1;33m.\u001b[0m\u001b[0mrho\u001b[0m\u001b[1;33m*\u001b[0m\u001b[0mtrans_pi\u001b[0m\u001b[1;33m[\u001b[0m\u001b[0ms\u001b[0m\u001b[1;33m]\u001b[0m\u001b[1;33m)\u001b[0m\u001b[0;31m \u001b[0m\u001b[0;31m \u001b[0m\u001b[0;31m\\\u001b[0m\u001b[1;33m\u001b[0m\u001b[1;33m\u001b[0m\u001b[0m\n\u001b[1;32m--> 393\u001b[1;33m                       \u001b[1;33m/\u001b[0m \u001b[1;33m(\u001b[0m\u001b[1;33m(\u001b[0m\u001b[0mtotalnd\u001b[0m \u001b[1;33m+\u001b[0m \u001b[0mself\u001b[0m\u001b[1;33m.\u001b[0m\u001b[0mweight\u001b[0m\u001b[1;33m*\u001b[0m\u001b[0mtotalmd\u001b[0m\u001b[1;33m)\u001b[0m \u001b[1;33m*\u001b[0m \u001b[1;33m(\u001b[0m\u001b[1;36m1\u001b[0m\u001b[1;33m+\u001b[0m\u001b[0mself\u001b[0m\u001b[1;33m.\u001b[0m\u001b[0mrho\u001b[0m\u001b[1;33m)\u001b[0m\u001b[1;33m)\u001b[0m\u001b[1;33m\u001b[0m\u001b[1;33m\u001b[0m\u001b[0m\n\u001b[0m\u001b[0;32m    394\u001b[0m \u001b[1;33m\u001b[0m\u001b[0m\n\u001b[0;32m    395\u001b[0m                 \u001b[0mp_sentiment\u001b[0m \u001b[1;33m/=\u001b[0m \u001b[0mnp\u001b[0m\u001b[1;33m.\u001b[0m\u001b[0msum\u001b[0m\u001b[1;33m(\u001b[0m\u001b[0mp_sentiment\u001b[0m\u001b[1;33m)\u001b[0m\u001b[1;33m\u001b[0m\u001b[1;33m\u001b[0m\u001b[0m\n",
      "\u001b[1;32mc:\\users\\liang\\appdata\\local\\programs\\python\\python36\\lib\\site-packages\\scipy\\stats\\_distn_infrastructure.py\u001b[0m in \u001b[0;36mpdf\u001b[1;34m(self, x, *args, **kwds)\u001b[0m\n\u001b[0;32m   1763\u001b[0m         \u001b[0mcond\u001b[0m \u001b[1;33m=\u001b[0m \u001b[0mcond0\u001b[0m \u001b[1;33m&\u001b[0m \u001b[0mcond1\u001b[0m\u001b[1;33m\u001b[0m\u001b[1;33m\u001b[0m\u001b[0m\n\u001b[0;32m   1764\u001b[0m         \u001b[0moutput\u001b[0m \u001b[1;33m=\u001b[0m \u001b[0mzeros\u001b[0m\u001b[1;33m(\u001b[0m\u001b[0mshape\u001b[0m\u001b[1;33m(\u001b[0m\u001b[0mcond\u001b[0m\u001b[1;33m)\u001b[0m\u001b[1;33m,\u001b[0m \u001b[0mdtyp\u001b[0m\u001b[1;33m)\u001b[0m\u001b[1;33m\u001b[0m\u001b[1;33m\u001b[0m\u001b[0m\n\u001b[1;32m-> 1765\u001b[1;33m         \u001b[0mputmask\u001b[0m\u001b[1;33m(\u001b[0m\u001b[0moutput\u001b[0m\u001b[1;33m,\u001b[0m \u001b[1;33m(\u001b[0m\u001b[1;36m1\u001b[0m\u001b[1;33m-\u001b[0m\u001b[0mcond0\u001b[0m\u001b[1;33m)\u001b[0m\u001b[1;33m+\u001b[0m\u001b[0mnp\u001b[0m\u001b[1;33m.\u001b[0m\u001b[0misnan\u001b[0m\u001b[1;33m(\u001b[0m\u001b[0mx\u001b[0m\u001b[1;33m)\u001b[0m\u001b[1;33m,\u001b[0m \u001b[0mself\u001b[0m\u001b[1;33m.\u001b[0m\u001b[0mbadvalue\u001b[0m\u001b[1;33m)\u001b[0m\u001b[1;33m\u001b[0m\u001b[1;33m\u001b[0m\u001b[0m\n\u001b[0m\u001b[0;32m   1766\u001b[0m         \u001b[1;32mif\u001b[0m \u001b[0mnp\u001b[0m\u001b[1;33m.\u001b[0m\u001b[0many\u001b[0m\u001b[1;33m(\u001b[0m\u001b[0mcond\u001b[0m\u001b[1;33m)\u001b[0m\u001b[1;33m:\u001b[0m\u001b[1;33m\u001b[0m\u001b[1;33m\u001b[0m\u001b[0m\n\u001b[0;32m   1767\u001b[0m             \u001b[0mgoodargs\u001b[0m \u001b[1;33m=\u001b[0m \u001b[0margsreduce\u001b[0m\u001b[1;33m(\u001b[0m\u001b[0mcond\u001b[0m\u001b[1;33m,\u001b[0m \u001b[1;33m*\u001b[0m\u001b[1;33m(\u001b[0m\u001b[1;33m(\u001b[0m\u001b[0mx\u001b[0m\u001b[1;33m,\u001b[0m\u001b[1;33m)\u001b[0m\u001b[1;33m+\u001b[0m\u001b[0margs\u001b[0m\u001b[1;33m+\u001b[0m\u001b[1;33m(\u001b[0m\u001b[0mscale\u001b[0m\u001b[1;33m,\u001b[0m\u001b[1;33m)\u001b[0m\u001b[1;33m)\u001b[0m\u001b[1;33m)\u001b[0m\u001b[1;33m\u001b[0m\u001b[1;33m\u001b[0m\u001b[0m\n",
      "\u001b[1;32m<__array_function__ internals>\u001b[0m in \u001b[0;36mputmask\u001b[1;34m(*args, **kwargs)\u001b[0m\n",
      "\u001b[1;31mKeyboardInterrupt\u001b[0m: "
     ]
    }
   ],
   "source": [
    "# =============================================================================\n",
    "# Risk-adjusted Monitoring of Out-of-Control Data\n",
    "# =============================================================================\n",
    "            \n",
    "model.rho = 0.95/0.05 # smoothing parameter 0.2 for EWMA\n",
    "item_id = 0 # select a specific item\n",
    "m = 100 # reference sample size\n",
    "n = 5 # test sample size\n",
    "RL_trys = 10000 # number of trys for run lengths\n",
    "UCL_senti = 0.008433 # lower search bound of UCL\n",
    "UCL_topic = 0.18515 # upper search bound of UCL \n",
    "bias_item_shift = -1\n",
    "factor_item_shift = np.array([0,0,0,-1,0])\n",
    "\n",
    "\n",
    "print(\"ARL1 for kappa=1 and smoothing=0.05, bias shift -1\")\n",
    "RL = [] # to record each RL\n",
    "for k in range(RL_trys):\n",
    "    # generate m reference samples\n",
    "    ref_samples = []\n",
    "    for i in range(m):\n",
    "        residual = np.random.normal(scale=1.0)\n",
    "        user_id = np.random.choice(np.arange(n_u))\n",
    "        score = bias_user[user_id] + bias_item[item_id] + U_matrix[user_id].dot(V_matrix[item_id]) + residual\n",
    "        theta_pos = np.exp(kappa * U_matrix[user_id] * V_matrix[item_id])\n",
    "        theta_neg = np.exp(-1 * kappa * U_matrix[user_id] * V_matrix[item_id])\n",
    "        theta = np.concatenate((theta_pos,theta_neg))\n",
    "        theta /= np.sum(theta)\n",
    "        doc = []\n",
    "        for idx in range(n_w):\n",
    "            k = np.random.choice(np.arange(n_factors*2),p=theta)\n",
    "            w = np.random.choice(np.arange(V),p=phi[k])\n",
    "            doc.append(w)\n",
    "        ref_samples.append([user_id,item_id,score,doc])\n",
    "    df_ref = pd.DataFrame(ref_samples, columns = ['user','item','rating','review'])\n",
    "    # get avg pi and theta in reference samples\n",
    "    pi, theta = model.online_Inference(new_corpus=df_ref,epochs=20)\n",
    "    ref_pi = np.mean(pi,axis=0)\n",
    "    ref_theta = np.mean(theta,axis=0)\n",
    "    \n",
    "    # RL computing        \n",
    "    cur_RL = 5000\n",
    "    signal = None\n",
    "    for j in range(1,5001):\n",
    "        # generate n test samples\n",
    "        test_samples = []\n",
    "        for i in range(n):\n",
    "            residual = np.random.normal(scale=1.0)\n",
    "            user_id = np.random.choice(np.arange(n_u))\n",
    "            #score = bias_user[user_id] + bias_item[item_id] + U_matrix[user_id].dot(V_matrix[item_id]) + residual\n",
    "            score = bias_user[user_id] + bias_item[item_id] + bias_item_shift + U_matrix[user_id].dot(V_matrix[item_id]) + residual\n",
    "            #score = bias_user[user_id] + bias_item[item_id] + U_matrix[user_id].dot(V_matrix[item_id] + factor_item_shift) + residual\n",
    "            theta_pos = np.exp(kappa * U_matrix[user_id] * (V_matrix[item_id]))\n",
    "            theta_neg = np.exp(-1 * kappa * U_matrix[user_id] * (V_matrix[item_id]))\n",
    "            #theta_pos = np.exp(kappa * U_matrix[user_id] * (V_matrix[item_id] + factor_item_shift))\n",
    "            #theta_neg = np.exp(-1 * kappa * U_matrix[user_id] * (V_matrix[item_id] + factor_item_shift))\n",
    "            theta = np.concatenate((theta_pos,theta_neg))            \n",
    "            theta /= np.sum(theta)\n",
    "            doc = []\n",
    "            for idx in range(n_w):\n",
    "                k = np.random.choice(np.arange(n_factors*2),p=theta)\n",
    "                w = np.random.choice(np.arange(V),p=phi[k])\n",
    "                doc.append(w)\n",
    "            test_samples.append([user_id,item_id,score,doc])\n",
    "        df_test = pd.DataFrame(test_samples, columns = ['user','item','rating','review'])\n",
    "        if j == 1:\n",
    "            pi_j, theta_j = model.online_sequential_Inference(ref_pi, ref_theta, df_test, epochs=5)\n",
    "        else:\n",
    "            pi_j, theta_j = model.online_sequential_Inference(pi_j, theta_j, df_test, epochs=5)\n",
    "        \n",
    "        \n",
    "        # compute sentiment statistic\n",
    "        Q_j_senti = np.sum(pi_j * np.log(pi_j/ref_pi))  \n",
    "        if Q_j_senti > UCL_senti:\n",
    "            cur_RL = j\n",
    "            signal = \"sentiment\"\n",
    "            break\n",
    "        '''\n",
    "        # compute topic statistic\n",
    "        Q_j_topic = 0\n",
    "        for s in range(model.S):\n",
    "            Q_j_topic += pi_j[s] * np.sum(theta_j[s] * np.log(theta_j[s]/ref_theta[s]))\n",
    "        if Q_j_topic > UCL_topic:\n",
    "            cur_RL = j\n",
    "            signal = \"topic\"\n",
    "            break\n",
    "        '''\n",
    "        \n",
    "    RL.append(cur_RL)\n",
    "    #if len(RL)%200 == 0:\n",
    "    print(len(RL),np.mean(RL),np.std(RL)/np.sqrt(len(RL)),signal)\n",
    "    "
   ]
  },
  {
   "cell_type": "code",
   "execution_count": 69,
   "id": "19afa079",
   "metadata": {},
   "outputs": [
    {
     "data": {
      "text/plain": [
       "(369.46410014171, 7.829467375682993)"
      ]
     },
     "execution_count": 69,
     "metadata": {},
     "output_type": "execute_result"
    }
   ],
   "source": [
    "np.mean(RL),np.std(RL)/np.sqrt(len(RL))"
   ]
  },
  {
   "cell_type": "code",
   "execution_count": 76,
   "id": "bc4d2b25",
   "metadata": {},
   "outputs": [],
   "source": [
    "import pandas as pd\n",
    "dd = pd.DataFrame(RL,columns=['RL'])\n",
    "dd.to_clipboard()"
   ]
  }
 ],
 "metadata": {
  "kernelspec": {
   "display_name": "Python 3",
   "language": "python",
   "name": "python3"
  },
  "language_info": {
   "codemirror_mode": {
    "name": "ipython",
    "version": 3
   },
   "file_extension": ".py",
   "mimetype": "text/x-python",
   "name": "python",
   "nbconvert_exporter": "python",
   "pygments_lexer": "ipython3",
   "version": "3.6.8"
  }
 },
 "nbformat": 4,
 "nbformat_minor": 5
}
